{
 "cells": [
  {
   "cell_type": "code",
   "execution_count": 1,
   "metadata": {},
   "outputs": [],
   "source": [
    "import numpy as np\n",
    "import pandas as pd"
   ]
  },
  {
   "cell_type": "markdown",
   "metadata": {},
   "source": [
    "According this [news article](https://www.thejournal.ie/height-irish-2899850-Jul2016/) the average height of an Irish man 180cm and average heights of an Irish woman is 165cm. Lets assume the standard deviation of men is 7cm and standard distribution of women is 5cm\n",
    "\n",
    "We can use numpy.random package to draw 5,000 samples of men and women heights from these distributions"
   ]
  },
  {
   "cell_type": "code",
   "execution_count": 2,
   "metadata": {},
   "outputs": [],
   "source": [
    "# obtain a sample of 1000 men heights\n",
    "sample_heights_men = np.random.default_rng(seed=1).normal(loc=180, scale=7, size=1000)\n",
    "\n",
    "#obtain a sample of 1000 women heights\n",
    "sample_heights_women = np.random.default_rng(seed=1).normal(loc=165, scale=5, size=1000)"
   ]
  },
  {
   "cell_type": "code",
   "execution_count": 3,
   "metadata": {},
   "outputs": [],
   "source": [
    "# combine both to obtain a sample of 2000\n",
    "heights = np.hstack((sample_heights_men, sample_heights_women))"
   ]
  },
  {
   "cell_type": "code",
   "execution_count": 4,
   "metadata": {},
   "outputs": [
    {
     "data": {
      "text/plain": [
       "(2000,)"
      ]
     },
     "execution_count": 4,
     "metadata": {},
     "output_type": "execute_result"
    }
   ],
   "source": [
    "heights.shape"
   ]
  },
  {
   "cell_type": "markdown",
   "metadata": {},
   "source": [
    "write something like above https://en.wikipedia.org/wiki/Human_body_weight"
   ]
  },
  {
   "cell_type": "code",
   "execution_count": null,
   "metadata": {},
   "outputs": [],
   "source": []
  }
 ],
 "metadata": {
  "kernelspec": {
   "display_name": "Python 3",
   "language": "python",
   "name": "python3"
  },
  "language_info": {
   "codemirror_mode": {
    "name": "ipython",
    "version": 3
   },
   "file_extension": ".py",
   "mimetype": "text/x-python",
   "name": "python",
   "nbconvert_exporter": "python",
   "pygments_lexer": "ipython3",
   "version": "3.8.3"
  }
 },
 "nbformat": 4,
 "nbformat_minor": 4
}
