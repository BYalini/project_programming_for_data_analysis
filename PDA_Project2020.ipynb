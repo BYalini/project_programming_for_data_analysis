{
 "cells": [
  {
   "cell_type": "markdown",
   "metadata": {},
   "source": [
    " https://en.wikipedia.org/wiki/Human_body_weight\n",
    " \n",
    " https://en.wikipedia.org/wiki/Average_human_height_by_country\n",
    " \n",
    " https://www.worlddata.info/average-bodyheight.php\n",
    " \n",
    " https://elifesciences.org/articles/13410#SD1-data\n",
    " \n",
    " https://www.cso.ie/en/releasesandpublications/ep/p-ihsmr/irishhealthsurvey2019-mainresults/healthdeterminants/\n",
    " \n",
    " https://static1.squarespace.com/static/585718168419c246cf6f204e/t/5ab7e2de70a6adbbb6bcf676/1522000606378/STATISTICS%2B-Dimensions%2B-%2B3-19-18%2B%281%29.pdf\n",
    " "
   ]
  },
  {
   "cell_type": "markdown",
   "metadata": {},
   "source": [
    "For this project I am going to estimate the irish population height and weight"
   ]
  },
  {
   "cell_type": "code",
   "execution_count": 1,
   "metadata": {},
   "outputs": [],
   "source": [
    "import numpy as np\n",
    "import pandas as pd"
   ]
  },
  {
   "cell_type": "markdown",
   "metadata": {},
   "source": [
    "According this [news article](https://www.thejournal.ie/height-irish-2899850-Jul2016/) the average height of an Irish man 179cm and average heights of an Irish woman is 165cm. Lets assume the standard deviation of men is 7cm and standard distribution of women is 5cm\n",
    "\n",
    "We can use numpy.random package to draw 2,000 samples of men and women heights from these distributions"
   ]
  },
  {
   "cell_type": "code",
   "execution_count": 2,
   "metadata": {},
   "outputs": [],
   "source": [
    "# obtain a sample of 1000 men heights\n",
    "sample_heights_men = np.random.default_rng(seed=1).normal(loc=179, scale=7, size=1000)\n",
    "\n",
    "#obtain a sample of 1000 women heights\n",
    "sample_heights_women = np.random.default_rng(seed=1).normal(loc=165, scale=5, size=1000)"
   ]
  },
  {
   "cell_type": "code",
   "execution_count": 3,
   "metadata": {},
   "outputs": [],
   "source": [
    "# combine both to obtain a sample of 2000\n",
    "heights = np.hstack((sample_heights_men, sample_heights_women))"
   ]
  },
  {
   "cell_type": "code",
   "execution_count": 4,
   "metadata": {},
   "outputs": [
    {
     "data": {
      "text/plain": [
       "(2000,)"
      ]
     },
     "execution_count": 4,
     "metadata": {},
     "output_type": "execute_result"
    }
   ],
   "source": [
    "heights.shape"
   ]
  },
  {
   "cell_type": "markdown",
   "metadata": {},
   "source": [
    "According this [article](https://www.worlddata.info/average-bodyheight.php) the average height of an Irish man 89.2 kg and average heights of an Irish woman is 73.1 kg. Let's assume the standard deviation of men is 10kg and standard distribution of women is 8kg\n",
    "\n",
    "We can use numpy.random package to draw 2,000 samples of men and women weight from these distributions\n",
    "\n",
    "https://www.nature.com/articles/0801715#:~:text=Body%20weight%20is%20not%20normally%20distributed%2C%20but%20skewed%20to%20the%20right.&text=There%20is%20a%20strong%20relation,be%20more%20resistant%20against%20obesity.\n"
   ]
  },
  {
   "cell_type": "code",
   "execution_count": 5,
   "metadata": {},
   "outputs": [],
   "source": [
    "# obtain a sample of 1000 men weights\n",
    "sample_weights_men = np.random.default_rng(seed=2).normal(loc=89.2, scale=10, size=1000)\n",
    "\n",
    "#obtain a sample of 1000 women weights\n",
    "sample_weights_women = np.random.default_rng(seed=2).normal(loc=73.1, scale=8, size=1000)\n",
    "\n",
    "# combine to obtain a sample of 2000\n",
    "weights = np.hstack((sample_weights_men, sample_weights_women))"
   ]
  },
  {
   "cell_type": "code",
   "execution_count": 6,
   "metadata": {},
   "outputs": [
    {
     "data": {
      "text/plain": [
       "array([0., 0., 0., ..., 1., 1., 1.])"
      ]
     },
     "execution_count": 6,
     "metadata": {},
     "output_type": "execute_result"
    }
   ],
   "source": [
    "# gender sample 0- Man and 1- Woman. 2000 samples\n",
    "gender = np.hstack((np.zeros(1000), np.ones(1000)))\n",
    "gender"
   ]
  },
  {
   "cell_type": "markdown",
   "metadata": {},
   "source": [
    "https://www.cso.ie/en/releasesandpublications/ep/p-cp8iter/p8iter/p8e/\n",
    "thnic or cultural background\n",
    "The population of the State grew at 0.8 per cent per annum while those with Irish ethnicity increased by just 0.2 per cent. The fastest growing ethnic group since 2011 was “Other incl. mixed background”, with an annualised growth of 14.7 per cent.  “Any other White background” rose by 1.6 per cent annually while Africans decreased 0.3 per cent per annum.\n",
    "\n",
    "The largest group in 2016 was “White Irish” with 3,854,226 (82.2%) usual residents. This was followed by “Any other White background” (9.5%), non-Chinese Asian (1.7%) and “Other incl. mixed background” (1.5%).\n",
    "\n",
    "Irish Travellers (30,987) made up 0.7 per cent of the usually resident population while Chinese (19,447) made up just 0.4 per cent. \n",
    "\n",
    "\n",
    "Irish 82.2%, Irish travelers 0.7%, other white 9.5%, Asian 2.1%, black 1.4%, other 1.5%, unspecified 2.6% (2016 est.)"
   ]
  },
  {
   "cell_type": "code",
   "execution_count": null,
   "metadata": {},
   "outputs": [],
   "source": []
  }
 ],
 "metadata": {
  "kernelspec": {
   "display_name": "Python 3",
   "language": "python",
   "name": "python3"
  },
  "language_info": {
   "codemirror_mode": {
    "name": "ipython",
    "version": 3
   },
   "file_extension": ".py",
   "mimetype": "text/x-python",
   "name": "python",
   "nbconvert_exporter": "python",
   "pygments_lexer": "ipython3",
   "version": "3.8.3"
  }
 },
 "nbformat": 4,
 "nbformat_minor": 4
}
