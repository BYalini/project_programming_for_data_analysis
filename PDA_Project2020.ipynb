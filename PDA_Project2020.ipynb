{
 "cells": [
  {
   "cell_type": "code",
   "execution_count": 1,
   "metadata": {},
   "outputs": [],
   "source": [
    "# house prices \n"
   ]
  },
  {
   "cell_type": "code",
   "execution_count": 2,
   "metadata": {},
   "outputs": [],
   "source": [
    "import numpy as np\n",
    "import pandas as pd"
   ]
  },
  {
   "cell_type": "code",
   "execution_count": 3,
   "metadata": {},
   "outputs": [],
   "source": [
    "# generate 100 random numbers between [0, 1)\n",
    "prices = np.random.default_rng(seed=1).random(size=100)"
   ]
  },
  {
   "cell_type": "code",
   "execution_count": 4,
   "metadata": {},
   "outputs": [],
   "source": [
    "# rescale between 100K and 500K\n",
    "prices = prices  * 400 + 100"
   ]
  },
  {
   "cell_type": "code",
   "execution_count": 5,
   "metadata": {},
   "outputs": [
    {
     "data": {
      "text/plain": [
       "array([304.72864988, 480.18547853, 157.66384509, 479.45977885,\n",
       "       224.7325808 , 269.33057959, 431.08103753, 263.67965455,\n",
       "       319.83747507, 111.0236453 , 401.40524347, 315.25732529,\n",
       "       231.8926866 , 415.37148137, 221.27793172, 281.39915579,\n",
       "       153.6166789 , 261.24519458, 181.38209627, 204.92533618,\n",
       "       400.14586905, 212.16350319, 294.07638977, 492.29487992,\n",
       "       484.66287747, 389.91597631, 316.49074222, 210.75648162,\n",
       "       164.26080351, 487.97016529, 306.42743422, 146.34624499,\n",
       "       349.39590222, 410.67324574, 345.20132042, 466.91908192,\n",
       "       115.83715067, 311.4357053 , 283.73435315, 124.93983166,\n",
       "       356.53126766, 441.05313539, 337.17640724, 204.03897909,\n",
       "       435.95260841, 303.79835261, 304.35555379, 401.21208308,\n",
       "       159.16881431, 427.85068765, 373.3147624 , 414.83877662,\n",
       "       176.64650361, 420.94566445, 176.52957042, 132.62104695,\n",
       "       442.09078971, 444.51339847, 450.61483857, 288.76388774,\n",
       "       209.61935545, 102.83673144, 358.28835823, 387.9637534 ,\n",
       "       434.2276866 , 212.75113095, 186.08726687, 355.73255203,\n",
       "       422.02193326, 485.46834914, 160.20993217, 292.88495528,\n",
       "       457.88634488, 269.08676278, 335.80082483, 109.796271  ,\n",
       "       369.38395486, 467.63544785, 430.73013182, 454.20810668,\n",
       "       364.14215221, 198.2209069 , 407.40679956, 184.66989704,\n",
       "       432.50993387, 125.08716903, 430.19512536, 165.80290659,\n",
       "       250.0587986 , 226.69526662, 376.53481411, 171.42875127,\n",
       "       258.50246489, 102.32983804, 204.9978851 , 268.47552569,\n",
       "       142.36849468, 353.26397841, 252.16970795, 390.11757523])"
      ]
     },
     "execution_count": 5,
     "metadata": {},
     "output_type": "execute_result"
    }
   ],
   "source": [
    "prices"
   ]
  },
  {
   "cell_type": "code",
   "execution_count": 6,
   "metadata": {},
   "outputs": [
    {
     "data": {
      "text/plain": [
       "array([4, 3, 3, 2, 2, 1, 1, 1, 1, 4, 3, 4, 3, 3, 4, 3, 3, 3, 3, 4, 2, 4,\n",
       "       3, 1, 2, 4, 3, 1, 4, 3, 4, 1, 1, 4, 1, 3, 1, 2, 2, 2, 2, 1, 1, 1,\n",
       "       1, 3, 3, 3, 2, 3, 4, 2, 2, 4, 4, 4, 2, 3, 4, 3, 4, 3, 3, 2, 4, 1,\n",
       "       3, 3, 4, 3, 2, 2, 2, 2, 3, 4, 1, 4, 3, 2, 3, 3, 2, 2, 3, 3, 3, 2,\n",
       "       4, 2, 2, 4, 2, 1, 3, 3, 1, 1, 2, 4], dtype=int64)"
      ]
     },
     "execution_count": 6,
     "metadata": {},
     "output_type": "execute_result"
    }
   ],
   "source": [
    "# no of bedrooms between 1 and 4\n",
    "bedrooms = np.random.default_rng(seed=0).integers(low=1, high=5, size=100)\n",
    "bedrooms"
   ]
  },
  {
   "cell_type": "code",
   "execution_count": 7,
   "metadata": {},
   "outputs": [
    {
     "data": {
      "text/plain": [
       "array([175,  89,  66,  94, 112, 172, 117,  63, 100, 140, 171, 159, 198,\n",
       "        78, 182,  58, 133,  91,  80, 148,  95, 134,  89,  72, 162, 114,\n",
       "       151, 150, 191, 113,  82, 144, 190, 195, 180, 152, 107, 108,  55,\n",
       "        78,  99, 101, 136, 126, 153, 183, 181, 166, 196,  97, 186, 188,\n",
       "        83, 120, 135, 154, 155,  66, 121,  65, 193,  80, 117, 182, 128,\n",
       "       151, 124, 177, 139, 146, 118, 110, 139, 127, 167, 139, 120, 179,\n",
       "        81, 115, 122, 183, 116, 142,  61, 174, 116, 124,  64, 153, 144,\n",
       "       100, 165, 128,  58,  82,  88,  65, 125,  55], dtype=int64)"
      ]
     },
     "execution_count": 7,
     "metadata": {},
     "output_type": "execute_result"
    }
   ],
   "source": [
    "# size in square foot\n",
    "square_foot = np.random.default_rng(seed=2).integers(low=50, high=200, size=100)\n",
    "square_foot"
   ]
  },
  {
   "cell_type": "code",
   "execution_count": 8,
   "metadata": {},
   "outputs": [
    {
     "data": {
      "text/plain": [
       "array([2, 1, 1, 1, 1, 2, 2, 2, 1, 1, 1, 1, 2, 1, 1, 1, 2, 2, 1, 1, 1, 1,\n",
       "       2, 2, 1, 1, 2, 2, 1, 2, 2, 2, 2, 1, 1, 2, 2, 2, 2, 1, 2, 1, 1, 2,\n",
       "       2, 1, 1, 1, 1, 2, 2, 2, 1, 1, 1, 2, 1, 1, 1, 2, 2, 1, 1, 1, 2, 2,\n",
       "       2, 2, 2, 1, 2, 2, 1, 1, 1, 2, 1, 2, 2, 1, 1, 2, 2, 2, 1, 2, 1, 2,\n",
       "       2, 1, 2, 2, 1, 2, 1, 1, 2, 2, 2, 1], dtype=int64)"
      ]
     },
     "execution_count": 8,
     "metadata": {},
     "output_type": "execute_result"
    }
   ],
   "source": [
    "# bathrooms \n",
    "bedrooms = np.random.default_rng(seed=3).integers(low=1, high=3, size=100)\n",
    "bedrooms"
   ]
  },
  {
   "cell_type": "code",
   "execution_count": 9,
   "metadata": {},
   "outputs": [
    {
     "data": {
      "text/plain": [
       "array([1, 1, 1, 1, 1, 1, 1, 0, 0, 1, 0, 0, 1, 1, 1, 0, 1, 1, 0, 1, 0, 1,\n",
       "       0, 0, 1, 0, 0, 1, 1, 1, 1, 0, 1, 1, 1, 1, 1, 0, 0, 1, 0, 1, 0, 1,\n",
       "       0, 1, 0, 0, 1, 0, 0, 0, 1, 1, 0, 1, 1, 0, 0, 0, 0, 1, 1, 1, 1, 1,\n",
       "       1, 1, 0, 0, 1, 1, 0, 0, 0, 1, 0, 0, 0, 0, 1, 1, 0, 1, 1, 0, 1, 0,\n",
       "       0, 0, 1, 0, 1, 0, 1, 1, 0, 1, 0, 0], dtype=int64)"
      ]
     },
     "execution_count": 9,
     "metadata": {},
     "output_type": "execute_result"
    }
   ],
   "source": [
    "# has parking \n",
    "parking = np.random.default_rng(seed=4).integers(low=0, high=2, size=100)\n",
    "parking"
   ]
  }
 ],
 "metadata": {
  "kernelspec": {
   "display_name": "Python 3",
   "language": "python",
   "name": "python3"
  },
  "language_info": {
   "codemirror_mode": {
    "name": "ipython",
    "version": 3
   },
   "file_extension": ".py",
   "mimetype": "text/x-python",
   "name": "python",
   "nbconvert_exporter": "python",
   "pygments_lexer": "ipython3",
   "version": "3.8.3"
  }
 },
 "nbformat": 4,
 "nbformat_minor": 4
}
